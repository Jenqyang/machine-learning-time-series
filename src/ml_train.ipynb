{
 "cells": [
  {
   "cell_type": "code",
   "execution_count": 1,
   "metadata": {},
   "outputs": [],
   "source": [
    "import numpy as np\n",
    "import pandas as pd\n",
    "import math\n",
    "from utils import *\n",
    "from sklearn.utils import shuffle\n",
    "from sklearn.model_selection import train_test_split\n",
    "import matplotlib.pyplot as plt\n",
    "from baseline_model import baseline_model"
   ]
  },
  {
   "cell_type": "code",
   "execution_count": 2,
   "metadata": {},
   "outputs": [],
   "source": [
    "class argparse():\n",
    "    pass\n",
    "args = argparse()\n",
    "args.data_path = '../data/COVID19_US_daily_case.csv'  # 数据集路径\n",
    "args.train_size = 0.7  # 训练集比例\n",
    "args.test_size = 0.3   # 测试集比例\n",
    "args.cond_size = 7   # 历史序列长度\n",
    "args.horizon = 3    # 预测步长"
   ]
  },
  {
   "cell_type": "code",
   "execution_count": 3,
   "metadata": {},
   "outputs": [
    {
     "name": "stdout",
     "output_type": "stream",
     "text": [
      "(896, 51)\n"
     ]
    }
   ],
   "source": [
    "df = pd.read_csv(args.data_path)\n",
    "data  = df.values\n",
    "# data = np.loadtxt(open(args.data_path), delimiter=',')\n",
    "print(data.shape)\n"
   ]
  },
  {
   "cell_type": "code",
   "execution_count": 4,
   "metadata": {},
   "outputs": [
    {
     "name": "stdout",
     "output_type": "stream",
     "text": [
      "(627,) (269,)\n",
      "(618, 7) (618, 1)\n",
      "(260, 7) (260, 1)\n"
     ]
    }
   ],
   "source": [
    "norm_data, data_max, data_min = normalize(data[:, 0])\n",
    "trainset = norm_data[:int(data.shape[0]*args.train_size)]\n",
    "testset = norm_data[int(data.shape[0]*args.train_size):]\n",
    "print(trainset.shape, testset.shape)\n",
    "train_x, train_y = sliding_windows(args, trainset)\n",
    "train_x, train_y = shuffle(train_x, train_y, random_state=0)\n",
    "test_x, test_y = sliding_windows(args, testset)\n",
    "print(train_x.shape, train_y.shape)\n",
    "print(test_x.shape, test_y.shape)"
   ]
  },
  {
   "cell_type": "code",
   "execution_count": null,
   "metadata": {},
   "outputs": [],
   "source": [
    "baseline_model = baseline_model(train_x, train_y, test_x, test_y, data_max, data_min, '../')\n",
    "model_list = ['lr', 'ridge', 'lasso', 'elastic_net', 'bayesian_ridge', 'svr', 'knn', 'dt', 'rf', 'gbdt', 'adaboost', 'xgb', 'lgb', 'cat', 'et', 'mlp', 'gpr']\n",
    "for model_name in model_list:\n",
    "    baseline_model.run(model_name, 'COVID19_US_daily_case')"
   ]
  },
  {
   "cell_type": "code",
   "execution_count": null,
   "metadata": {},
   "outputs": [],
   "source": []
  }
 ],
 "metadata": {
  "kernelspec": {
   "display_name": "pytorch",
   "language": "python",
   "name": "python3"
  },
  "language_info": {
   "codemirror_mode": {
    "name": "ipython",
    "version": 3
   },
   "file_extension": ".py",
   "mimetype": "text/x-python",
   "name": "python",
   "nbconvert_exporter": "python",
   "pygments_lexer": "ipython3",
   "version": "3.8.17"
  },
  "orig_nbformat": 4
 },
 "nbformat": 4,
 "nbformat_minor": 2
}
